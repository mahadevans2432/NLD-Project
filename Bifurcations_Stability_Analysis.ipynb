{
 "cells": [
  {
   "cell_type": "code",
   "execution_count": 1,
   "metadata": {},
   "outputs": [],
   "source": [
    "import numpy as np\n",
    "import scipy as sci\n",
    "from sympy import *\n",
    "from matplotlib import pyplot as plt\n",
    "%matplotlib inline"
   ]
  },
  {
   "cell_type": "code",
   "execution_count": 2,
   "metadata": {},
   "outputs": [],
   "source": [
    "def omega_SN(K,rho):\n",
    "    factor1 = rho*rho - 1\n",
    "    factor2 = rho*rho + 1\n",
    "    under_root = K*factor1*(K*factor1*factor1-4)-4*factor2\n",
    "    if(under_root<0):\n",
    "        return -1\n",
    "    numerator = pow(factor2,1.5)*np.sqrt(under_root)\n",
    "    denominator = 2*factor1*factor1\n",
    "    return numerator/denominator"
   ]
  },
  {
   "cell_type": "code",
   "execution_count": 3,
   "metadata": {},
   "outputs": [],
   "source": [
    "def F_SN(K,rho):\n",
    "    factor1 = (rho*rho-1)\n",
    "    term1 = K*K*pow(factor1,3)\n",
    "    term2 = 2*K*(pow(rho,4)-4*pow(rho,2)+3)\n",
    "    under_root = term1+term2-8\n",
    "    if(under_root<0):\n",
    "        return -1\n",
    "    numerator = np.sqrt(2)*rho*rho*np.sqrt(under_root)\n",
    "    denominator = factor1*factor1\n",
    "    return numerator/denominator"
   ]
  },
  {
   "cell_type": "code",
   "execution_count": 4,
   "metadata": {},
   "outputs": [],
   "source": [
    "def F_hopf_general(K,omega):\n",
    "    global F_TB\n",
    "    factor1 = K-2\n",
    "    factor2 = pow(K,4)-4*pow(K,3)+4*(pow(omega,2)+1)*K*K + 16*pow(omega,2)*K + 16*pow(omega,2)\n",
    "    denominator = K+2\n",
    "    under_root= factor1*factor2/denominator\n",
    "    F_hopf_val=  1/(2*K)*np.sqrt(under_root)\n",
    "    if(F_hopf_val>F_TB):\n",
    "        return F_hopf_val\n",
    "    else:\n",
    "        return -1"
   ]
  },
  {
   "cell_type": "code",
   "execution_count": 5,
   "metadata": {},
   "outputs": [],
   "source": [
    "def F_hopf(K,omega):\n",
    "    global F_TB\n",
    "    factor1 = 1/10\n",
    "    factor2 = np.sqrt(3/7)\n",
    "    factor3 = np.sqrt(225+196*omega*omega)\n",
    "    F_hopf_val = (factor1*factor2*factor3)\n",
    "    if(F_hopf_val>F_TB):\n",
    "        return F_hopf_val\n",
    "    else:\n",
    "        return -1"
   ]
  },
  {
   "cell_type": "code",
   "execution_count": 6,
   "metadata": {},
   "outputs": [],
   "source": [
    "K = 5\n",
    "domain_rho = np.linspace(0,1,100)\n",
    "omega_plot = []\n",
    "F_plot = []\n",
    "save_omega=0\n",
    "save_F =0\n",
    "for i in domain_rho:\n",
    "    omega = omega_SN(K,i)\n",
    "    F = F_SN(K,i)\n",
    "    if(omega!=-1 and F!=-1):\n",
    "        omega_plot.append(omega)\n",
    "        F_plot.append(F)\n",
    "        save_omega = omega\n",
    "        save_F = F\n",
    "        \n",
    "F_hopf_plot=[]\n",
    "omega_hopf =[]\n",
    "\n",
    "omega_TB = (K-2)*K*K/(4*(K+2))\n",
    "F_TB = (K-2)/4*np.sqrt((pow(K,3)-2*pow(K,2)+4*K-8)/(K+2))\n",
    "\n",
    "domain_omega= np.linspace(0,4,100)\n",
    "for i in domain_omega:\n",
    "    if(i>omega_TB):\n",
    "        F_hopf_plot.append(F_hopf(K,i))\n",
    "        omega_hopf.append(i)\n",
    "\n",
    "omega_domain = np.linspace(0,save_omega,100)\n",
    "sniper = save_F/save_omega*omega_domain\n",
    "\n",
    "\n",
    "    \n"
   ]
  },
  {
   "cell_type": "code",
   "execution_count": 7,
   "metadata": {},
   "outputs": [
    {
     "data": {
      "text/plain": [
       "Text(0.5, 1.0, 'Stability Diagram for Forced Kuramoto Model')"
      ]
     },
     "execution_count": 7,
     "metadata": {},
     "output_type": "execute_result"
    },
    {
     "data": {
      "image/png": "[encoded data removed]",
      "text/plain": [
       "<Figure size 432x288 with 1 Axes>"
      ]
     },
     "metadata": {
      "needs_background": "light"
     },
     "output_type": "display_data"
    }
   ],
   "source": [
    "plt.plot(omega_plot,F_plot,'r')\n",
    "plt.plot(omega_hopf,F_hopf_plot)\n",
    "plt.plot(omega_domain,sniper,':')\n",
    "plt.xlabel('Detuning Omega')\n",
    "plt.ylabel('Forcing Strength, F')\n",
    "plt.title('Stability Diagram for Forced Kuramoto Model')"
   ]
  },
  {
   "cell_type": "code",
   "execution_count": null,
   "metadata": {},
   "outputs": [],
   "source": []
  },
  {
   "cell_type": "code",
   "execution_count": null,
   "metadata": {},
   "outputs": [],
   "source": []
  },
  {
   "cell_type": "code",
   "execution_count": null,
   "metadata": {},
   "outputs": [],
   "source": []
  },
  {
   "cell_type": "code",
   "execution_count": null,
   "metadata": {},
   "outputs": [],
   "source": []
  }
 ],
 "metadata": {
  "kernelspec": {
   "display_name": "Python 3",
   "language": "python",
   "name": "python3"
  },
  "language_info": {
   "codemirror_mode": {
    "name": "ipython",
    "version": 3
   },
   "file_extension": ".py",
   "mimetype": "text/x-python",
   "name": "python",
   "nbconvert_exporter": "python",
   "pygments_lexer": "ipython3",
   "version": "3.7.6"
  }
 },
 "nbformat": 4,
 "nbformat_minor": 4
}
