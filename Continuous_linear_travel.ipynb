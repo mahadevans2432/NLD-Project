{
 "cells": [
  {
   "cell_type": "code",
   "execution_count": 1,
   "metadata": {},
   "outputs": [],
   "source": [
    "import numpy as np\n",
    "import matplotlib.pyplot as plt\n",
    "from scipy import optimize as opt\n",
    "from scipy.integrate import solve_ivp"
   ]
  },
  {
   "cell_type": "code",
   "execution_count": 2,
   "metadata": {},
   "outputs": [],
   "source": [
    "def Kder_complex(z,Delta,Omega,K,F): #Returns zdot\n",
    "    return ((K*z +F) - (z**2)*np.conj(K*z+F))/2 - (Delta + Omega*1j)*z\n",
    "\n",
    "def Kder_vector(z,Delta,Omega,K,F): #z is treated as a 2D vector in R^2\n",
    "    x = z[0]\n",
    "    y = z[1]\n",
    "    zdot = Kder_complex(x+y*1j,Delta,Omega,K,F)\n",
    "    xdot = np.real(zdot)\n",
    "    ydot = np.imag(zdot)\n",
    "    return [xdot,ydot]"
   ]
  },
  {
   "cell_type": "code",
   "execution_count": 3,
   "metadata": {},
   "outputs": [],
   "source": [
    "Delta0 = 3.8e-3\n",
    "Omega0 = 1.4*Delta0\n",
    "K0 = 4.5*Delta0\n",
    "F0 = 3.5*Delta0"
   ]
  },
  {
   "cell_type": "code",
   "execution_count": 4,
   "metadata": {},
   "outputs": [],
   "source": [
    "def p(t,tau,lag): #pfinal = 0 WLOG\n",
    "    pinit = - lag\n",
    "    pfinal = 0\n",
    "    if t < 0:\n",
    "        return  pinit\n",
    "    elif t<tau:\n",
    "        return pinit + (pfinal - pinit)/tau*t\n",
    "    else:\n",
    "        return pfinal\n",
    "\n",
    "def pdot(t,tau,lag):\n",
    "    if t < 0:\n",
    "        return  0\n",
    "    elif t<tau:\n",
    "        return lag/tau\n",
    "    else:\n",
    "        return 0"
   ]
  },
  {
   "cell_type": "code",
   "execution_count": 14,
   "metadata": {},
   "outputs": [],
   "source": [
    "def wder(t,w,tau,lag,Delta,Omega,K,F):\n",
    "    return np.exp(-1j*p(t,tau,lag))*Kder_complex(w*np.exp(1j*p(t,tau,lag)),Delta,Omega,K,F) - 1j*w*pdot(t,tau,lag)\n",
    "\n",
    "def wder_vectorised(t,w,tau,lag,Delta,Omega,K,F):\n",
    "    x = w[0]\n",
    "    y = w[1]\n",
    "    w_derivative = wder(x+1j*y,t,tau,lag,Delta,Omega,K,F)\n",
    "    return [np.real(w_derivative),np.imag(w_derivative)]"
   ]
  },
  {
   "cell_type": "code",
   "execution_count": 15,
   "metadata": {},
   "outputs": [],
   "source": [
    "def integrate_w(lag,tau,t_end,t_step,Delta = Delta0, Omega = Omega0, K=K0,F=F0 ): #t_start = 0 WLOG\n",
    "    solstb = opt.fsolve(Kder_vector,[1,-1],(Delta,Omega,K,F))\n",
    "    def recovery(t,w,tau,lag,Delta,Omega,K,F):\n",
    "        x = w[0]\n",
    "        y = w[1]\n",
    "        return (x - solstb[0])**2 + (x - solstb[1])**2 - 0.0001\n",
    "    recovery.terminal = True\n",
    "    recovery.direction = -1 #only counts positive to negative crossing\n",
    "    solution = solve_ivp(wder_vectorised,(0,t_end),solstb,t_eval = np.linspace(0,t_end,int(t_end/t_step)),args= (tau,lag,Delta,Omega,K,F))\n",
    "    return solution"
   ]
  },
  {
   "cell_type": "code",
   "execution_count": 16,
   "metadata": {},
   "outputs": [],
   "source": [
    "myrangex = np.linspace(-1,1,40)\n",
    "myrangey = np.linspace(-1,1,40)\n",
    "x,y = np.meshgrid(myrangex,myrangey)\n",
    "z = x + 1j*y\n",
    "zdot = Kder_complex(z,Delta = Delta0,Omega = Omega0,K = K0,F = F0)#Put correct values here\n",
    "u = np.real(zdot)/np.abs(zdot)\n",
    "v = np.imag(zdot)/np.abs(zdot)"
   ]
  },
  {
   "cell_type": "code",
   "execution_count": 17,
   "metadata": {
    "scrolled": false
   },
   "outputs": [],
   "source": [
    "solstb = opt.fsolve(Kder_vector,[1,-1],(Delta0,Omega0,K0,F0))\n",
    "solunstb = opt.fsolve(Kder_vector,[0,0],(Delta0,Omega0,K0,F0))\n",
    "solsad = opt.fsolve(Kder_vector,[-1,0],(Delta0,Omega0,K0,F0))"
   ]
  },
  {
   "cell_type": "code",
   "execution_count": 20,
   "metadata": {},
   "outputs": [
    {
     "data": {
      "image/png": "[encoded data removed]",
      "text/plain": [
       "<Figure size 720x720 with 1 Axes>"
      ]
     },
     "metadata": {
      "needs_background": "light"
     },
     "output_type": "display_data"
    }
   ],
   "source": [
    "plt.quiver(x,y,u,v)\n",
    "plt.scatter(solstb[0],solstb[1],label='stable fp',c = 'brown')\n",
    "plt.scatter(solunstb[0],solunstb[1],label='unstable fp',c='purple')\n",
    "plt.scatter(solsad[0],solsad[1],label='saddle fp',c='darkgreen')\n",
    "lags = [8,9,12,-9]\n",
    "colours = ['green','red','magenta','blue']\n",
    "for index in range(4):\n",
    "    lagval = lags[index]\n",
    "    s = integrate_w(lagval,lagval,1000,1)\n",
    "    plt.plot(s.y[0],s.y[1],c=colours[index])\n",
    "    #solimported = get_linear_travel_IC(lagval,lagval,Delta0,Omega0,K0,F0)\n",
    "plt.axis('equal')\n",
    "plt.gcf().set_size_inches(10,10)\n",
    "plt.legend()\n",
    "plt.show()"
   ]
  }
 ],
 "metadata": {
  "kernelspec": {
   "display_name": "Python 3",
   "language": "python",
   "name": "python3"
  },
  "language_info": {
   "codemirror_mode": {
    "name": "ipython",
    "version": 3
   },
   "file_extension": ".py",
   "mimetype": "text/x-python",
   "name": "python",
   "nbconvert_exporter": "python",
   "pygments_lexer": "ipython3",
   "version": "3.7.3"
  }
 },
 "nbformat": 4,
 "nbformat_minor": 4
}
